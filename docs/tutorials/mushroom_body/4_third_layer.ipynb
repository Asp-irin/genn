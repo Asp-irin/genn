{
  "cells": [
    {
      "cell_type": "markdown",
      "metadata": {
        "id": "lGa0_oLb61zz"
      },
      "source": [
        "# Output neurons and learning\n",
        "In this tutorial we add Mushroom Body Output Neurons (MBONS) to the model and train the weights connecting them to the Kenyon Cells using a simple event-driven STDP rule.\n",
        "\n",
        "## Install PyGeNN wheel from Google Drive\n",
        "Download wheel file"
      ]
    },
    {
      "cell_type": "code",
      "source": [
        "if \"google.colab\" in str(get_ipython()):\n",
        "    !gdown 1OJH0FAR4GRsvIKkHw0NBM-9aYU2VJ1bo\n",
        "    !pip install pygenn-5.1.0-cp310-cp310-linux_x86_64.whl\n",
        "    %env CUDA_PATH=/usr/local/cuda"
      ],
      "metadata": {
        "id": "H6PHF3xTkMOD",
        "outputId": "7e2e1dd8-96b4-4306-88e5-a6a67befaf11",
        "colab": {
          "base_uri": "https://localhost:8080/"
        }
      },
      "execution_count": 1,
      "outputs": [
        {
          "output_type": "stream",
          "name": "stdout",
          "text": [
            "Downloading...\n",
            "From: https://drive.google.com/uc?id=1OJH0FAR4GRsvIKkHw0NBM-9aYU2VJ1bo\n",
            "To: /content/pygenn-5.1.0-cp310-cp310-linux_x86_64.whl\n",
            "\r  0% 0.00/8.47M [00:00<?, ?B/s]\r 25% 2.10M/8.47M [00:00<00:00, 18.8MB/s]\r100% 8.47M/8.47M [00:00<00:00, 52.9MB/s]\n",
            "Processing ./pygenn-5.1.0-cp310-cp310-linux_x86_64.whl\n",
            "Requirement already satisfied: numpy>=1.17 in /usr/local/lib/python3.10/dist-packages (from pygenn==5.1.0) (1.26.4)\n",
            "Requirement already satisfied: psutil in /usr/local/lib/python3.10/dist-packages (from pygenn==5.1.0) (5.9.5)\n",
            "Requirement already satisfied: setuptools in /usr/local/lib/python3.10/dist-packages (from pygenn==5.1.0) (75.1.0)\n",
            "pygenn is already installed with the same version as the provided wheel. Use --force-reinstall to force an installation of the wheel.\n",
            "env: CUDA_PATH=/usr/local/cuda\n"
          ]
        }
      ]
    },
    {
      "cell_type": "markdown",
      "source": [
        "## Install MNIST package"
      ],
      "metadata": {
        "id": "KVRtXVzIg07T"
      }
    },
    {
      "cell_type": "code",
      "source": [
        "!pip install mnist"
      ],
      "metadata": {
        "id": "AikBc4sfg1b-",
        "outputId": "c7026569-489e-4180-ee80-40c97cebcd67",
        "colab": {
          "base_uri": "https://localhost:8080/"
        }
      },
      "execution_count": 2,
      "outputs": [
        {
          "output_type": "stream",
          "name": "stdout",
          "text": [
            "Requirement already satisfied: mnist in /usr/local/lib/python3.10/dist-packages (0.2.2)\n",
            "Requirement already satisfied: numpy in /usr/local/lib/python3.10/dist-packages (from mnist) (1.26.4)\n"
          ]
        }
      ]
    },
    {
      "cell_type": "markdown",
      "metadata": {
        "id": "yV0JrchrfQKR"
      },
      "source": [
        "## Build tutorial model\n",
        "Import modules"
      ]
    },
    {
      "cell_type": "code",
      "execution_count": 3,
      "metadata": {
        "id": "Hl53yKXi9LiV"
      },
      "outputs": [],
      "source": [
        "import mnist\n",
        "import numpy as np\n",
        "from copy import copy\n",
        "from matplotlib import pyplot as plt\n",
        "from pygenn import (create_current_source_model, create_neuron_model, create_weight_update_model,\n",
        "                    init_postsynaptic, init_sparse_connectivity, init_weight_update, GeNNModel)\n",
        "\n",
        "# Reshape and normalise training data\n",
        "mnist.datasets_url = \"https://storage.googleapis.com/cvdf-datasets/mnist/\"\n",
        "training_images = mnist.train_images()\n",
        "training_images = np.reshape(training_images, (training_images.shape[0], -1)).astype(np.float32)\n",
        "training_images /= np.sum(training_images, axis=1)[:, np.newaxis]\n",
        "training_labels = mnist.train_labels()"
      ]
    },
    {
      "cell_type": "code",
      "execution_count": 4,
      "metadata": {
        "id": "ZfxsGYr5kVv-"
      },
      "outputs": [],
      "source": [
        "from tqdm.auto import tqdm"
      ]
    },
    {
      "cell_type": "markdown",
      "metadata": {
        "id": "g0IfyML59Lif"
      },
      "source": [
        "## Parameters\n",
        "Define some model parameters"
      ]
    },
    {
      "cell_type": "code",
      "execution_count": 5,
      "metadata": {
        "id": "oncGyriW9Lif"
      },
      "outputs": [],
      "source": [
        "# Simulation time step\n",
        "DT = 0.1\n",
        "\n",
        "# Scaling factor for converting normalised image pixels to input currents (nA)\n",
        "INPUT_SCALE = 80.0\n",
        "\n",
        "# Number of Projection Neurons in model (should match image size)\n",
        "NUM_PN = 784\n",
        "\n",
        "# Number of Kenyon Cells in model (defines memory capacity)\n",
        "NUM_KC = 20000\n",
        "\n",
        "# How long to present each image to model\n",
        "PRESENT_TIME_MS = 20.0\n",
        "\n",
        "# Standard LIF neurons parameters\n",
        "LIF_PARAMS = {\n",
        "    \"C\": 0.2,\n",
        "    \"TauM\": 20.0,\n",
        "    \"Vrest\": -60.0,\n",
        "    \"Vreset\": -60.0,\n",
        "    \"Vthresh\": -50.0,\n",
        "    \"Ioffset\": 0.0,\n",
        "    \"TauRefrac\": 2.0}\n",
        "\n",
        "# We only want PNs to spike once\n",
        "PN_PARAMS = copy(LIF_PARAMS)\n",
        "PN_PARAMS[\"TauRefrac\"] = 100.0\n",
        "\n",
        "# Weight of each synaptic connection\n",
        "PN_KC_WEIGHT = 0.2\n",
        "\n",
        "# Time constant of synaptic integration\n",
        "PN_KC_TAU_SYN = 3.0\n",
        "\n",
        "# How many projection neurons should be connected to each Kenyon Cell\n",
        "PN_KC_FAN_IN = 20\n",
        "\n",
        "# We will use weights of 1.0 for KC->GGN connections and\n",
        "# want the GGN to inhibit the KCs after 200 spikes\n",
        "GGN_PARAMS = {\n",
        "    \"Vthresh\": 200.0}"
      ]
    },
    {
      "cell_type": "markdown",
      "metadata": {
        "id": "KldVFE9dJdv8"
      },
      "source": [
        "As we're now going to be adding our synaptic connections between the Projection Neurons and a new population of Kenyon Cells, also define some parameter for these"
      ]
    },
    {
      "cell_type": "code",
      "execution_count": 6,
      "metadata": {
        "id": "ZvNwgTphJeM9"
      },
      "outputs": [],
      "source": [
        "NUM_MBON = 10\n",
        "MBON_STIMULUS_CURRENT = 5.0"
      ]
    },
    {
      "cell_type": "code",
      "execution_count": 7,
      "metadata": {
        "id": "-CKgGZHBjKl2"
      },
      "outputs": [],
      "source": [
        "KC_MBON_TAU_SYN = 3.0\n",
        "KC_MBON_PARAMS = {\"tau\": 15.0,\n",
        "                  \"rho\": 0.01,\n",
        "                  \"eta\": 0.00002,\n",
        "                  \"wMin\": 0.0,\n",
        "                  \"wMax\": 0.0233}"
      ]
    },
    {
      "cell_type": "markdown",
      "metadata": {
        "id": "pCYjAoJf9Lig"
      },
      "source": [
        "## Custom models\n",
        "As well as the models we defined before:"
      ]
    },
    {
      "cell_type": "code",
      "execution_count": 8,
      "metadata": {
        "id": "IR8PXBg69Lih"
      },
      "outputs": [],
      "source": [
        "# Current source model, allowing current to be injected into neuron from variable\n",
        "cs_model = create_current_source_model(\n",
        "    \"cs_model\",\n",
        "    vars=[(\"magnitude\", \"scalar\")],\n",
        "    injection_code=\"injectCurrent(magnitude);\")\n",
        "\n",
        "# Minimal integrate and fire neuron model\n",
        "if_model = create_neuron_model(\n",
        "    \"IF\",\n",
        "    params=[\"Vthresh\"],\n",
        "    vars=[(\"V\", \"scalar\")],\n",
        "    sim_code=\n",
        "    \"\"\"\n",
        "    V += Isyn;\n",
        "    \"\"\",\n",
        "    threshold_condition_code=\n",
        "    \"\"\"\n",
        "    V >= Vthresh\n",
        "    \"\"\",\n",
        "    reset_code=\n",
        "    \"\"\"\n",
        "    V = 0.0;\n",
        "    \"\"\")"
      ]
    },
    {
      "cell_type": "markdown",
      "metadata": {
        "id": "cfKeAMLBjZ6u"
      },
      "source": [
        "We now also need to define an STDP learning rule. In this task, we will be forcing the correct MBON to fire at a high rate using a current source and we want to strengthen connections between active Kenyon Cells and this MBON while weakening others. The relative order of Kenyon Cell and MBON spikes is unimportant so we implement this using a symmetric STDP rule with an exponentially-shaped window with a time constant (``tau``) of 15ms. In order to weaken connections between inactive Kenyon Cells and MBONs, the ``rho`` parameter 'shifts' this window down so connections whose spike times fall outside of the window are weakened:\n",
        "\n",
        "![Figure_1.png](data:image/png;base64,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)\n",
        "\n",
        "Because, rather than doing something more biologically plausible, we are  doing supervised learning by manually injecting a current into the correct MBON, we do not want incorrect MBONs to fire due to currents delivered by these synapses so we don't call ``addToPost(g)`` in this learning rule."
      ]
    },
    {
      "cell_type": "code",
      "execution_count": 9,
      "metadata": {
        "id": "pe-5DQ9hezIs"
      },
      "outputs": [],
      "source": [
        "symmetric_stdp = create_weight_update_model(\n",
        "    \"symmetric_stdp\",\n",
        "    params=[\"tau\", \"rho\", \"eta\", \"wMin\", \"wMax\"],\n",
        "    vars=[(\"g\", \"scalar\")],\n",
        "    pre_spike_syn_code=\n",
        "    \"\"\"\n",
        "    //addToPost(g);\n",
        "    const scalar dt = t - st_post;\n",
        "    const scalar timing = exp(-dt / tau) - rho;\n",
        "    const scalar newWeight = g + (eta * timing);\n",
        "    g = fmin(wMax, fmax(wMin, newWeight));\n",
        "    \"\"\",\n",
        "    post_spike_syn_code=\n",
        "    \"\"\"\n",
        "    const scalar dt = t - st_pre;\n",
        "    const scalar timing = exp(-dt / tau) - rho;\n",
        "    const scalar newWeight = g + (eta * timing);\n",
        "    g = fmin(wMax, fmax(wMin, newWeight));\n",
        "    \"\"\")\n"
      ]
    },
    {
      "cell_type": "markdown",
      "metadata": {
        "id": "Gn4DpkPQ9Lii"
      },
      "source": [
        "## Model definition\n",
        "Create a new model called \"mnist_mb_second_layer_gain_control\" as before although we no longer need to record spikes from individual neurons:"
      ]
    },
    {
      "cell_type": "code",
      "execution_count": 10,
      "metadata": {
        "id": "Gx-GsJhD9Lik"
      },
      "outputs": [],
      "source": [
        "# Create model\n",
        "model = GeNNModel(\"float\", \"mnist_mb_third_layer\")\n",
        "model.dt = DT\n",
        "\n",
        "# Create neuron populations\n",
        "lif_init = {\"V\": PN_PARAMS[\"Vreset\"], \"RefracTime\": 0.0}\n",
        "if_init = {\"V\": 0.0}\n",
        "pn = model.add_neuron_population(\"pn\", NUM_PN, \"LIF\", PN_PARAMS, lif_init)\n",
        "kc = model.add_neuron_population(\"kc\", NUM_KC, \"LIF\", LIF_PARAMS, lif_init)\n",
        "ggn = model.add_neuron_population(\"ggn\", 1, if_model, GGN_PARAMS, if_init)\n",
        "\n",
        "# Turn on spike recording\n",
        "pn.spike_recording_enabled = True\n",
        "kc.spike_recording_enabled = True\n",
        "\n",
        "# Create current sources to deliver input to network\n",
        "pn_input = model.add_current_source(\"pn_input\", cs_model, pn , {}, {\"magnitude\": 0.0})\n",
        "\n",
        "# Create synapse populations\n",
        "pn_kc = model.add_synapse_population(\"pn_kc\", \"SPARSE\",\n",
        "                                     pn, kc,\n",
        "                                     init_weight_update(\"StaticPulseConstantWeight\", {\"g\": PN_KC_WEIGHT}),\n",
        "                                     init_postsynaptic(\"ExpCurr\", {\"tau\": PN_KC_TAU_SYN}),\n",
        "                                     init_sparse_connectivity(\"FixedNumberPreWithReplacement\", {\"num\": PN_KC_FAN_IN}))\n",
        "\n",
        "kc_ggn = model.add_synapse_population(\"kc_ggn\", \"DENSE\",\n",
        "                                      kc, ggn,\n",
        "                                      init_weight_update(\"StaticPulseConstantWeight\", {\"g\": 1.0}),\n",
        "                                      init_postsynaptic(\"DeltaCurr\"))\n",
        "\n",
        "ggn_kc = model.add_synapse_population(\"ggn_kc\", \"DENSE\",\n",
        "                                      ggn, kc,\n",
        "                                      init_weight_update(\"StaticPulseConstantWeight\", {\"g\": -5.0}),\n",
        "                                      init_postsynaptic(\"ExpCurr\", {\"tau\": 5.0}))"
      ]
    },
    {
      "cell_type": "markdown",
      "metadata": {
        "id": "sdYo9umiH06S"
      },
      "source": [
        "Add a current source to inject current into `pn` using our newly-defined custom model with the initial magnitude set to zero."
      ]
    },
    {
      "cell_type": "code",
      "execution_count": 11,
      "metadata": {
        "id": "kiitnN5HjlNc"
      },
      "outputs": [],
      "source": [
        "mbon = model.add_neuron_population(\"mbon\", NUM_MBON, \"LIF\", LIF_PARAMS, lif_init)\n",
        "\n",
        "mbon.spike_recording_enabled = True\n",
        "\n",
        "# Create current sources to deliver input and supervision to network\n",
        "mbon_input = model.add_current_source(\"mbon_input\", cs_model, mbon , {}, {\"magnitude\": 0.0})"
      ]
    },
    {
      "cell_type": "markdown",
      "metadata": {
        "id": "0BQ2LzsPjvlv"
      },
      "source": [
        "Add a new synapse group connecting ``kc`` into ``mbon`` with initially zeroed weights and our newly-defined STDP rule."
      ]
    },
    {
      "cell_type": "code",
      "execution_count": 12,
      "metadata": {
        "id": "5hq70tYRjqZq"
      },
      "outputs": [],
      "source": [
        "kc_mbon = model.add_synapse_population(\"kc_mbon\", \"DENSE\",\n",
        "                                       kc, mbon,\n",
        "                                       init_weight_update(symmetric_stdp, KC_MBON_PARAMS, {\"g\": 0.0}),\n",
        "                                       init_postsynaptic(\"ExpCurr\", {\"tau\": KC_MBON_TAU_SYN}))"
      ]
    },
    {
      "cell_type": "markdown",
      "metadata": {
        "id": "-GU4oXOS9Lil"
      },
      "source": [
        "## Build model\n",
        "Generate code and load it into PyGeNN (as we're no longer recording spikes, we don't need to allocate a recording buffer)"
      ]
    },
    {
      "cell_type": "code",
      "execution_count": 13,
      "metadata": {
        "id": "-FE02Zoz9Lim"
      },
      "outputs": [],
      "source": [
        "# Convert present time into timesteps\n",
        "present_timesteps = int(round(PRESENT_TIME_MS / DT))\n",
        "\n",
        "# Build model and load it\n",
        "model.build()\n",
        "model.load(num_recording_timesteps=present_timesteps)"
      ]
    },
    {
      "cell_type": "markdown",
      "metadata": {
        "id": "CcpTaaB39Lim"
      },
      "source": [
        "## Simulate tutorial model\n",
        "As well as resetting the state of every neuron after presenting each stimuli, because we have now added synapses with their own dynamics, these also need to be reset.\n",
        " This function resets neuron state variables selected by the keys of a dictionary to the values specifed in the dictionary values and pushes the new values to the GPU."
      ]
    },
    {
      "cell_type": "markdown",
      "metadata": {
        "id": "DfcqDTVXdoRq"
      },
      "source": [
        "Now, like before, we loop through 4 stimuli and simulate the model. However, now we need to reset the Projection Neuron and Kenyon Cell populations; **and** the synapses between them. Additionally, we want to show spikes from the Kenyon Cells as well as the Projection Neurons."
      ]
    },
    {
      "cell_type": "code",
      "execution_count": 14,
      "metadata": {
        "id": "hQV_X3IGkIQm"
      },
      "outputs": [],
      "source": [
        "def reset_spike_times(pop):\n",
        "    pop.spike_times.view[:] = -np.finfo(np.float32).max\n",
        "    pop.spike_times.push_to_device()"
      ]
    },
    {
      "cell_type": "code",
      "execution_count": 15,
      "metadata": {
        "colab": {
          "base_uri": "https://localhost:8080/",
          "height": 49,
          "referenced_widgets": [
            "716a5a65b074484bb6082ed62555afe1",
            "6ce1df3bb2d34709848c220626490518",
            "efc83ec51c8a492ea8b6a00614342796",
            "64c083e9df4b4fe38ce40e300234fb44",
            "f7984163540240d98ab05be62711250d",
            "35cda0abe712473890349d6f4cea261b",
            "34e5176fbfb9439c9551dcd7b0878ee1",
            "cca0d542f7b748b08c9956e4057738e5",
            "c2eafbd8c90c4f6784205cf0563adf1a",
            "3ad5f1599cbf43b5a49d4efb62c31588",
            "92c311b0c8c14489993c629d512bf7e3"
          ]
        },
        "id": "K9pAP8OrJUub",
        "outputId": "132ba2bd-a49a-463a-fc5f-9d8a71820ce4"
      },
      "outputs": [
        {
          "output_type": "display_data",
          "data": {
            "text/plain": [
              "  0%|          | 0/60000 [00:00<?, ?it/s]"
            ],
            "application/vnd.jupyter.widget-view+json": {
              "version_major": 2,
              "version_minor": 0,
              "model_id": "716a5a65b074484bb6082ed62555afe1"
            }
          },
          "metadata": {}
        }
      ],
      "source": [
        "def reset_out_post(pop):\n",
        "    pop.out_post.view[:] = 0.0\n",
        "    pop.out_post.push_to_device()\n",
        "\n",
        "def reset_neuron(pop, var_init):\n",
        "    # Reset variables\n",
        "    for var_name, var_val in var_init.items():\n",
        "        pop.vars[var_name].view[:] = var_val\n",
        "\n",
        "        # Push the new values to GPU\n",
        "        pop.vars[var_name].push_to_device()\n",
        "\n",
        "# Convert present time into timesteps\n",
        "present_timesteps = int(round(PRESENT_TIME_MS / DT))\n",
        "\n",
        "for s in tqdm(range(training_images.shape[0])):\n",
        "    # Set training image\n",
        "    pn_input.vars[\"magnitude\"].view[:] = training_images[s] * INPUT_SCALE\n",
        "    pn_input.vars[\"magnitude\"].push_to_device()\n",
        "\n",
        "    # Turn on correct output neuron\n",
        "    mbon_input.vars[\"magnitude\"].view[:] = 0\n",
        "    mbon_input.vars[\"magnitude\"].view[training_labels[s]] = MBON_STIMULUS_CURRENT\n",
        "    mbon_input.vars[\"magnitude\"].push_to_device()\n",
        "\n",
        "    # Simulate present timesteps\n",
        "    for i in range(present_timesteps):\n",
        "        model.step_time()\n",
        "\n",
        "    # Reset neuron state\n",
        "    reset_neuron(pn, lif_init)\n",
        "    reset_neuron(kc, lif_init)\n",
        "    reset_neuron(ggn, if_init)\n",
        "    reset_neuron(mbon, lif_init)\n",
        "\n",
        "    # Reset spike times\n",
        "    reset_spike_times(kc)\n",
        "    reset_spike_times(mbon)\n",
        "\n",
        "    # Reset synapse state\n",
        "    reset_out_post(pn_kc)\n",
        "    reset_out_post(ggn_kc)\n",
        "    reset_out_post(kc_mbon)"
      ]
    },
    {
      "cell_type": "markdown",
      "metadata": {
        "id": "KqM0qyChlzhP"
      },
      "source": [
        "## Visualise and save learned weights\n",
        "First of all we download the learned weights from device and get the memory view to access them through (in the same way as we used to access current source state variables)"
      ]
    },
    {
      "cell_type": "code",
      "execution_count": 16,
      "metadata": {
        "id": "s4lAfhkdkuHY"
      },
      "outputs": [],
      "source": [
        "kc_mbon.vars[\"g\"].pull_from_device()\n",
        "kc_mbon_g_view = kc_mbon.vars[\"g\"].view"
      ]
    },
    {
      "cell_type": "markdown",
      "metadata": {
        "id": "FINPVXN5mr5C"
      },
      "source": [
        "now we plot a histogram of the weight distribution - as is typical when using STDP rules whose learning rate is independent of the current magnitude of the weight it is bimodal"
      ]
    },
    {
      "cell_type": "code",
      "execution_count": 17,
      "metadata": {
        "colab": {
          "base_uri": "https://localhost:8080/",
          "height": 465
        },
        "id": "OHD_SzOsmF1Z",
        "outputId": "018351b4-064f-4c46-e8e8-027fd662ee45"
      },
      "outputs": [
        {
          "output_type": "display_data",
          "data": {
            "text/plain": [
              "<Figure size 1000x500 with 1 Axes>"
            ],
            "image/png": "[encoded data removed]"
          },
          "metadata": {}
        }
      ],
      "source": [
        "fig, axis = plt.subplots(figsize=(10, 5))\n",
        "axis.hist(kc_mbon_g_view, bins=100)\n",
        "axis.axvline(np.average(kc_mbon_g_view), linestyle=\"--\")\n",
        "axis.set_xlabel(\"Weight [nA]\")\n",
        "axis.set_ylabel(\"Count\");"
      ]
    },
    {
      "cell_type": "markdown",
      "metadata": {
        "id": "bi2A8qZWAASt"
      },
      "source": [
        "So we can reproduce exactly the same PN->KC connectivity again and reuse the weights we've learnt we want to save them back to YOUR google drive. First mount the drive"
      ]
    },
    {
      "cell_type": "code",
      "execution_count": 18,
      "metadata": {
        "id": "DMyS30_Rm-oe",
        "outputId": "26358ac2-ecb9-4ced-d195-9eca54bc69e5",
        "colab": {
          "base_uri": "https://localhost:8080/"
        }
      },
      "outputs": [
        {
          "output_type": "stream",
          "name": "stdout",
          "text": [
            "Mounted at /content/drive\n"
          ]
        }
      ],
      "source": [
        "from google.colab import drive\n",
        "drive.mount(\"/content/drive\")"
      ]
    },
    {
      "cell_type": "markdown",
      "metadata": {
        "id": "JTZrJsB4AQH5"
      },
      "source": [
        "Save the learnt weights"
      ]
    },
    {
      "cell_type": "code",
      "execution_count": 19,
      "metadata": {
        "id": "kFQtm-CVmT20"
      },
      "outputs": [],
      "source": [
        "np.save(\"/content/drive/MyDrive/kc_mbon_g.npy\", kc_mbon_g_view)"
      ]
    },
    {
      "cell_type": "markdown",
      "metadata": {
        "id": "iqF9kWhEATFL"
      },
      "source": [
        "Download the PN->KC connectivity from the GPU and save the sparse connectivity."
      ]
    },
    {
      "cell_type": "code",
      "execution_count": 20,
      "metadata": {
        "id": "6xNyJgiGmR9Y"
      },
      "outputs": [],
      "source": [
        "pn_kc.pull_connectivity_from_device()\n",
        "np.save(\"/content/drive/MyDrive/pn_kc_ind.npy\", np.vstack((pn_kc.get_sparse_pre_inds(), pn_kc.get_sparse_post_inds())))"
      ]
    }
  ],
  "metadata": {
    "accelerator": "GPU",
    "colab": {
      "name": "4_third_layer",
      "provenance": []
    },
    "kernelspec": {
      "display_name": "Python 3",
      "language": "python",
      "name": "python3"
    },
    "language_info": {
      "codemirror_mode": {
        "name": "ipython",
        "version": 3
      },
      "file_extension": ".py",
      "mimetype": "text/x-python",
      "name": "python",
      "nbconvert_exporter": "python",
      "pygments_lexer": "ipython3",
      "version": "3.7.7"
    },
    "widgets": {
      "application/vnd.jupyter.widget-state+json": {
        "716a5a65b074484bb6082ed62555afe1": {
          "model_module": "@jupyter-widgets/controls",
          "model_name": "HBoxModel",
          "model_module_version": "1.5.0",
          "state": {
            "_dom_classes": [],
            "_model_module": "@jupyter-widgets/controls",
            "_model_module_version": "1.5.0",
            "_model_name": "HBoxModel",
            "_view_count": null,
            "_view_module": "@jupyter-widgets/controls",
            "_view_module_version": "1.5.0",
            "_view_name": "HBoxView",
            "box_style": "",
            "children": [
              "IPY_MODEL_6ce1df3bb2d34709848c220626490518",
              "IPY_MODEL_efc83ec51c8a492ea8b6a00614342796",
              "IPY_MODEL_64c083e9df4b4fe38ce40e300234fb44"
            ],
            "layout": "IPY_MODEL_f7984163540240d98ab05be62711250d"
          }
        },
        "6ce1df3bb2d34709848c220626490518": {
          "model_module": "@jupyter-widgets/controls",
          "model_name": "HTMLModel",
          "model_module_version": "1.5.0",
          "state": {
            "_dom_classes": [],
            "_model_module": "@jupyter-widgets/controls",
            "_model_module_version": "1.5.0",
            "_model_name": "HTMLModel",
            "_view_count": null,
            "_view_module": "@jupyter-widgets/controls",
            "_view_module_version": "1.5.0",
            "_view_name": "HTMLView",
            "description": "",
            "description_tooltip": null,
            "layout": "IPY_MODEL_35cda0abe712473890349d6f4cea261b",
            "placeholder": "​",
            "style": "IPY_MODEL_34e5176fbfb9439c9551dcd7b0878ee1",
            "value": "100%"
          }
        },
        "efc83ec51c8a492ea8b6a00614342796": {
          "model_module": "@jupyter-widgets/controls",
          "model_name": "FloatProgressModel",
          "model_module_version": "1.5.0",
          "state": {
            "_dom_classes": [],
            "_model_module": "@jupyter-widgets/controls",
            "_model_module_version": "1.5.0",
            "_model_name": "FloatProgressModel",
            "_view_count": null,
            "_view_module": "@jupyter-widgets/controls",
            "_view_module_version": "1.5.0",
            "_view_name": "ProgressView",
            "bar_style": "success",
            "description": "",
            "description_tooltip": null,
            "layout": "IPY_MODEL_cca0d542f7b748b08c9956e4057738e5",
            "max": 60000,
            "min": 0,
            "orientation": "horizontal",
            "style": "IPY_MODEL_c2eafbd8c90c4f6784205cf0563adf1a",
            "value": 60000
          }
        },
        "64c083e9df4b4fe38ce40e300234fb44": {
          "model_module": "@jupyter-widgets/controls",
          "model_name": "HTMLModel",
          "model_module_version": "1.5.0",
          "state": {
            "_dom_classes": [],
            "_model_module": "@jupyter-widgets/controls",
            "_model_module_version": "1.5.0",
            "_model_name": "HTMLModel",
            "_view_count": null,
            "_view_module": "@jupyter-widgets/controls",
            "_view_module_version": "1.5.0",
            "_view_name": "HTMLView",
            "description": "",
            "description_tooltip": null,
            "layout": "IPY_MODEL_3ad5f1599cbf43b5a49d4efb62c31588",
            "placeholder": "​",
            "style": "IPY_MODEL_92c311b0c8c14489993c629d512bf7e3",
            "value": " 60000/60000 [02:57&lt;00:00, 362.60it/s]"
          }
        },
        "f7984163540240d98ab05be62711250d": {
          "model_module": "@jupyter-widgets/base",
          "model_name": "LayoutModel",
          "model_module_version": "1.2.0",
          "state": {
            "_model_module": "@jupyter-widgets/base",
            "_model_module_version": "1.2.0",
            "_model_name": "LayoutModel",
            "_view_count": null,
            "_view_module": "@jupyter-widgets/base",
            "_view_module_version": "1.2.0",
            "_view_name": "LayoutView",
            "align_content": null,
            "align_items": null,
            "align_self": null,
            "border": null,
            "bottom": null,
            "display": null,
            "flex": null,
            "flex_flow": null,
            "grid_area": null,
            "grid_auto_columns": null,
            "grid_auto_flow": null,
            "grid_auto_rows": null,
            "grid_column": null,
            "grid_gap": null,
            "grid_row": null,
            "grid_template_areas": null,
            "grid_template_columns": null,
            "grid_template_rows": null,
            "height": null,
            "justify_content": null,
            "justify_items": null,
            "left": null,
            "margin": null,
            "max_height": null,
            "max_width": null,
            "min_height": null,
            "min_width": null,
            "object_fit": null,
            "object_position": null,
            "order": null,
            "overflow": null,
            "overflow_x": null,
            "overflow_y": null,
            "padding": null,
            "right": null,
            "top": null,
            "visibility": null,
            "width": null
          }
        },
        "35cda0abe712473890349d6f4cea261b": {
          "model_module": "@jupyter-widgets/base",
          "model_name": "LayoutModel",
          "model_module_version": "1.2.0",
          "state": {
            "_model_module": "@jupyter-widgets/base",
            "_model_module_version": "1.2.0",
            "_model_name": "LayoutModel",
            "_view_count": null,
            "_view_module": "@jupyter-widgets/base",
            "_view_module_version": "1.2.0",
            "_view_name": "LayoutView",
            "align_content": null,
            "align_items": null,
            "align_self": null,
            "border": null,
            "bottom": null,
            "display": null,
            "flex": null,
            "flex_flow": null,
            "grid_area": null,
            "grid_auto_columns": null,
            "grid_auto_flow": null,
            "grid_auto_rows": null,
            "grid_column": null,
            "grid_gap": null,
            "grid_row": null,
            "grid_template_areas": null,
            "grid_template_columns": null,
            "grid_template_rows": null,
            "height": null,
            "justify_content": null,
            "justify_items": null,
            "left": null,
            "margin": null,
            "max_height": null,
            "max_width": null,
            "min_height": null,
            "min_width": null,
            "object_fit": null,
            "object_position": null,
            "order": null,
            "overflow": null,
            "overflow_x": null,
            "overflow_y": null,
            "padding": null,
            "right": null,
            "top": null,
            "visibility": null,
            "width": null
          }
        },
        "34e5176fbfb9439c9551dcd7b0878ee1": {
          "model_module": "@jupyter-widgets/controls",
          "model_name": "DescriptionStyleModel",
          "model_module_version": "1.5.0",
          "state": {
            "_model_module": "@jupyter-widgets/controls",
            "_model_module_version": "1.5.0",
            "_model_name": "DescriptionStyleModel",
            "_view_count": null,
            "_view_module": "@jupyter-widgets/base",
            "_view_module_version": "1.2.0",
            "_view_name": "StyleView",
            "description_width": ""
          }
        },
        "cca0d542f7b748b08c9956e4057738e5": {
          "model_module": "@jupyter-widgets/base",
          "model_name": "LayoutModel",
          "model_module_version": "1.2.0",
          "state": {
            "_model_module": "@jupyter-widgets/base",
            "_model_module_version": "1.2.0",
            "_model_name": "LayoutModel",
            "_view_count": null,
            "_view_module": "@jupyter-widgets/base",
            "_view_module_version": "1.2.0",
            "_view_name": "LayoutView",
            "align_content": null,
            "align_items": null,
            "align_self": null,
            "border": null,
            "bottom": null,
            "display": null,
            "flex": null,
            "flex_flow": null,
            "grid_area": null,
            "grid_auto_columns": null,
            "grid_auto_flow": null,
            "grid_auto_rows": null,
            "grid_column": null,
            "grid_gap": null,
            "grid_row": null,
            "grid_template_areas": null,
            "grid_template_columns": null,
            "grid_template_rows": null,
            "height": null,
            "justify_content": null,
            "justify_items": null,
            "left": null,
            "margin": null,
            "max_height": null,
            "max_width": null,
            "min_height": null,
            "min_width": null,
            "object_fit": null,
            "object_position": null,
            "order": null,
            "overflow": null,
            "overflow_x": null,
            "overflow_y": null,
            "padding": null,
            "right": null,
            "top": null,
            "visibility": null,
            "width": null
          }
        },
        "c2eafbd8c90c4f6784205cf0563adf1a": {
          "model_module": "@jupyter-widgets/controls",
          "model_name": "ProgressStyleModel",
          "model_module_version": "1.5.0",
          "state": {
            "_model_module": "@jupyter-widgets/controls",
            "_model_module_version": "1.5.0",
            "_model_name": "ProgressStyleModel",
            "_view_count": null,
            "_view_module": "@jupyter-widgets/base",
            "_view_module_version": "1.2.0",
            "_view_name": "StyleView",
            "bar_color": null,
            "description_width": ""
          }
        },
        "3ad5f1599cbf43b5a49d4efb62c31588": {
          "model_module": "@jupyter-widgets/base",
          "model_name": "LayoutModel",
          "model_module_version": "1.2.0",
          "state": {
            "_model_module": "@jupyter-widgets/base",
            "_model_module_version": "1.2.0",
            "_model_name": "LayoutModel",
            "_view_count": null,
            "_view_module": "@jupyter-widgets/base",
            "_view_module_version": "1.2.0",
            "_view_name": "LayoutView",
            "align_content": null,
            "align_items": null,
            "align_self": null,
            "border": null,
            "bottom": null,
            "display": null,
            "flex": null,
            "flex_flow": null,
            "grid_area": null,
            "grid_auto_columns": null,
            "grid_auto_flow": null,
            "grid_auto_rows": null,
            "grid_column": null,
            "grid_gap": null,
            "grid_row": null,
            "grid_template_areas": null,
            "grid_template_columns": null,
            "grid_template_rows": null,
            "height": null,
            "justify_content": null,
            "justify_items": null,
            "left": null,
            "margin": null,
            "max_height": null,
            "max_width": null,
            "min_height": null,
            "min_width": null,
            "object_fit": null,
            "object_position": null,
            "order": null,
            "overflow": null,
            "overflow_x": null,
            "overflow_y": null,
            "padding": null,
            "right": null,
            "top": null,
            "visibility": null,
            "width": null
          }
        },
        "92c311b0c8c14489993c629d512bf7e3": {
          "model_module": "@jupyter-widgets/controls",
          "model_name": "DescriptionStyleModel",
          "model_module_version": "1.5.0",
          "state": {
            "_model_module": "@jupyter-widgets/controls",
            "_model_module_version": "1.5.0",
            "_model_name": "DescriptionStyleModel",
            "_view_count": null,
            "_view_module": "@jupyter-widgets/base",
            "_view_module_version": "1.2.0",
            "_view_name": "StyleView",
            "description_width": ""
          }
        }
      }
    }
  },
  "nbformat": 4,
  "nbformat_minor": 0
}
{
  "cells": [
    {
      "cell_type": "markdown",
      "metadata": {
        "id": "lGa0_oLb61zz"
      },
      "source": [
        "# Testing\n",
        "In this final tutorial we load the weights we trained in the previous tutorial into a static version of the mushroom body model and evaluate its performance on the MNIST test set.\n",
        "\n",
        "## Install PyGeNN wheel from Google Drive\n",
        "Download wheel file"
      ]
    },
    {
      "cell_type": "code",
      "source": [
        "if \"google.colab\" in str(get_ipython()):\n",
        "    !gdown 1OJH0FAR4GRsvIKkHw0NBM-9aYU2VJ1bo\n",
        "    !pip install pygenn-5.1.0-cp310-cp310-linux_x86_64.whl\n",
        "    %env CUDA_PATH=/usr/local/cuda"
      ],
      "metadata": {
        "id": "NMiDVe_vmKPh",
        "outputId": "1da231d4-2efe-491d-a2cf-a2d7763154a4",
        "colab": {
          "base_uri": "https://localhost:8080/"
        }
      },
      "execution_count": 1,
      "outputs": [
        {
          "output_type": "stream",
          "name": "stdout",
          "text": [
            "Downloading...\n",
            "From: https://drive.google.com/uc?id=1OJH0FAR4GRsvIKkHw0NBM-9aYU2VJ1bo\n",
            "To: /content/pygenn-5.1.0-cp310-cp310-linux_x86_64.whl\n",
            "\r  0% 0.00/8.47M [00:00<?, ?B/s]\r100% 8.47M/8.47M [00:00<00:00, 116MB/s]\n",
            "Processing ./pygenn-5.1.0-cp310-cp310-linux_x86_64.whl\n",
            "Requirement already satisfied: numpy>=1.17 in /usr/local/lib/python3.10/dist-packages (from pygenn==5.1.0) (1.26.4)\n",
            "Requirement already satisfied: psutil in /usr/local/lib/python3.10/dist-packages (from pygenn==5.1.0) (5.9.5)\n",
            "Requirement already satisfied: setuptools in /usr/local/lib/python3.10/dist-packages (from pygenn==5.1.0) (75.1.0)\n",
            "pygenn is already installed with the same version as the provided wheel. Use --force-reinstall to force an installation of the wheel.\n",
            "env: CUDA_PATH=/usr/local/cuda\n"
          ]
        }
      ]
    },
    {
      "cell_type": "markdown",
      "source": [
        "## Install MNIST package"
      ],
      "metadata": {
        "id": "KVRtXVzIg07T"
      }
    },
    {
      "cell_type": "code",
      "source": [
        "!pip install mnist"
      ],
      "metadata": {
        "id": "AikBc4sfg1b-",
        "outputId": "7058d6c8-86f3-4168-97df-a46ff03280e8",
        "colab": {
          "base_uri": "https://localhost:8080/"
        }
      },
      "execution_count": 2,
      "outputs": [
        {
          "output_type": "stream",
          "name": "stdout",
          "text": [
            "Requirement already satisfied: mnist in /usr/local/lib/python3.10/dist-packages (0.2.2)\n",
            "Requirement already satisfied: numpy in /usr/local/lib/python3.10/dist-packages (from mnist) (1.26.4)\n"
          ]
        }
      ]
    },
    {
      "cell_type": "markdown",
      "metadata": {
        "id": "yV0JrchrfQKR"
      },
      "source": [
        "## Build tutorial model\n",
        "Import modules"
      ]
    },
    {
      "cell_type": "code",
      "execution_count": 3,
      "metadata": {
        "id": "Hl53yKXi9LiV"
      },
      "outputs": [],
      "source": [
        "import mnist\n",
        "import numpy as np\n",
        "from copy import copy\n",
        "from google.colab import drive\n",
        "from matplotlib import pyplot as plt\n",
        "from pygenn import (create_current_source_model, create_neuron_model, init_postsynaptic,\n",
        "                    init_sparse_connectivity, init_weight_update, GeNNModel)\n",
        "from tqdm.auto import tqdm"
      ]
    },
    {
      "cell_type": "code",
      "execution_count": 4,
      "metadata": {
        "id": "ayctC3Y0i8ks"
      },
      "outputs": [],
      "source": [
        "# Reshape and normalise training data\n",
        "mnist.datasets_url = \"https://storage.googleapis.com/cvdf-datasets/mnist/\"\n",
        "testing_images = mnist.test_images()\n",
        "testing_images = np.reshape(testing_images, (testing_images.shape[0], -1)).astype(np.float32)\n",
        "testing_images /= np.sum(testing_images, axis=1)[:, np.newaxis]\n",
        "testing_labels = mnist.test_labels()"
      ]
    },
    {
      "cell_type": "code",
      "execution_count": 5,
      "metadata": {
        "colab": {
          "base_uri": "https://localhost:8080/"
        },
        "id": "l5HX_B1Gohbq",
        "outputId": "1846ba89-01a4-475a-bf3e-602ed024e6dd"
      },
      "outputs": [
        {
          "output_type": "stream",
          "name": "stdout",
          "text": [
            "Drive already mounted at /content/drive; to attempt to forcibly remount, call drive.mount(\"/content/drive\", force_remount=True).\n"
          ]
        }
      ],
      "source": [
        "from google.colab import drive\n",
        "drive.mount(\"/content/drive\")\n"
      ]
    },
    {
      "cell_type": "code",
      "execution_count": 6,
      "metadata": {
        "id": "i-4iEfEdom33"
      },
      "outputs": [],
      "source": [
        "pn_kc_ind = np.load(\"/content/drive/MyDrive/pn_kc_ind.npy\")\n",
        "kc_mbon_g = np.load(\"/content/drive/MyDrive/kc_mbon_g.npy\")"
      ]
    },
    {
      "cell_type": "markdown",
      "metadata": {
        "id": "g0IfyML59Lif"
      },
      "source": [
        "## Parameters\n",
        "Define some model parameters"
      ]
    },
    {
      "cell_type": "code",
      "execution_count": 7,
      "metadata": {
        "id": "oncGyriW9Lif"
      },
      "outputs": [],
      "source": [
        "# Simulation time step\n",
        "DT = 0.1\n",
        "\n",
        "# Scaling factor for converting normalised image pixels to input currents (nA)\n",
        "INPUT_SCALE = 80.0\n",
        "\n",
        "# Number of Projection Neurons in model (should match image size)\n",
        "NUM_PN = 784\n",
        "\n",
        "# Number of Kenyon Cells in model (defines memory capacity)\n",
        "NUM_KC = 20000\n",
        "\n",
        "# Number of Mushroom Body Output Neurons (should match number of labels)\n",
        "NUM_MBON = 10\n",
        "\n",
        "# How long to present each image to model\n",
        "PRESENT_TIME_MS = 20.0\n",
        "\n",
        "# Standard LIF neurons parameters\n",
        "LIF_PARAMS = {\n",
        "    \"C\": 0.2,\n",
        "    \"TauM\": 20.0,\n",
        "    \"Vrest\": -60.0,\n",
        "    \"Vreset\": -60.0,\n",
        "    \"Vthresh\": -50.0,\n",
        "    \"Ioffset\": 0.0,\n",
        "    \"TauRefrac\": 2.0}\n",
        "\n",
        "# We only want PNs to spike once\n",
        "PN_PARAMS = copy(LIF_PARAMS)\n",
        "PN_PARAMS[\"TauRefrac\"] = 100.0\n",
        "\n",
        "# Weight of each synaptic connection\n",
        "PN_KC_WEIGHT = 0.2\n",
        "\n",
        "# Time constant of synaptic integration\n",
        "PN_KC_TAU_SYN = 3.0\n",
        "\n",
        "# How many projection neurons should be connected to each Kenyon Cell\n",
        "PN_KC_FAN_IN = 20\n",
        "\n",
        "# Time constant of synaptic integration\n",
        "KC_MBON_TAU_SYN = 3.0\n",
        "\n",
        "# We will use weights of 1.0 for KC->GGN connections and\n",
        "# want the GGN to inhibit the KCs after 200 spikes\n",
        "GGN_PARAMS = {\n",
        "    \"Vthresh\": 200.0}"
      ]
    },
    {
      "cell_type": "markdown",
      "metadata": {
        "id": "pCYjAoJf9Lig"
      },
      "source": [
        "## Custom models\n",
        "As well as the models we defined before:"
      ]
    },
    {
      "cell_type": "code",
      "execution_count": 8,
      "metadata": {
        "id": "IR8PXBg69Lih"
      },
      "outputs": [],
      "source": [
        "# Current source model, allowing current to be injected into neuron from variable\n",
        "cs_model = create_current_source_model(\n",
        "    \"cs_model\",\n",
        "    vars=[(\"magnitude\", \"scalar\")],\n",
        "    injection_code=\"injectCurrent(magnitude);\")\n",
        "\n",
        "# Minimal integrate and fire neuron model\n",
        "if_model = create_neuron_model(\n",
        "    \"IF\",\n",
        "    params=[\"Vthresh\"],\n",
        "    vars=[(\"V\", \"scalar\")],\n",
        "    sim_code=\n",
        "    \"\"\"\n",
        "    V += Isyn;\n",
        "    \"\"\",\n",
        "    threshold_condition_code=\n",
        "    \"\"\"\n",
        "    V >= Vthresh\n",
        "    \"\"\",\n",
        "    reset_code=\n",
        "    \"\"\"\n",
        "    V = 0.0;\n",
        "    \"\"\")"
      ]
    },
    {
      "cell_type": "markdown",
      "metadata": {
        "id": "Gn4DpkPQ9Lii"
      },
      "source": [
        "## Model definition\n",
        "Create a new model called \"mnist_mb_second_layer_gain_control\" as before although we no longer need to record spikes from individual neurons:"
      ]
    },
    {
      "cell_type": "code",
      "execution_count": 16,
      "metadata": {
        "id": "Gx-GsJhD9Lik"
      },
      "outputs": [],
      "source": [
        "# Create model\n",
        "model = GeNNModel(\"float\", \"mnist_mb_testing\")\n",
        "model.dt = DT\n",
        "\n",
        "# Create neuron populations\n",
        "lif_init = {\"V\": PN_PARAMS[\"Vreset\"], \"RefracTime\": 0.0}\n",
        "if_init = {\"V\": 0.0}\n",
        "pn = model.add_neuron_population(\"pn\", NUM_PN, \"LIF\", PN_PARAMS, lif_init)\n",
        "kc = model.add_neuron_population(\"kc\", NUM_KC, \"LIF\", LIF_PARAMS, lif_init)\n",
        "ggn = model.add_neuron_population(\"ggn\", 1, if_model, GGN_PARAMS, if_init)\n",
        "mbon = model.add_neuron_population(\"mbon\", NUM_MBON, \"LIF\", LIF_PARAMS, lif_init)\n",
        "\n",
        "# Turn on spike recording\n",
        "pn.spike_recording_enabled = True\n",
        "kc.spike_recording_enabled = True\n",
        "mbon.spike_recording_enabled = True\n",
        "\n",
        "# Create current sources to deliver input to network\n",
        "pn_input = model.add_current_source(\"pn_input\", cs_model, pn , {}, {\"magnitude\": 0.0})\n",
        "\n",
        "# Create synapse populations\n",
        "kc_ggn = model.add_synapse_population(\"kc_ggn\", \"DENSE\",\n",
        "                                      kc, ggn,\n",
        "                                      init_weight_update(\"StaticPulseConstantWeight\", {\"g\": 1.0}),\n",
        "                                      init_postsynaptic(\"DeltaCurr\"))\n",
        "\n",
        "ggn_kc = model.add_synapse_population(\"ggn_kc\", \"DENSE\",\n",
        "                                      ggn, kc,\n",
        "                                      init_weight_update(\"StaticPulseConstantWeight\", {\"g\": -5.0}),\n",
        "                                      init_postsynaptic(\"ExpCurr\", {\"tau\": 5.0}))\n",
        "\n"
      ]
    },
    {
      "cell_type": "code",
      "execution_count": 17,
      "metadata": {
        "id": "KfQ1y4vto6T7"
      },
      "outputs": [],
      "source": [
        "pn_kc = model.add_synapse_population(\"pn_kc\", \"SPARSE\",\n",
        "                                     pn, kc,\n",
        "                                     init_weight_update(\"StaticPulseConstantWeight\", {\"g\": PN_KC_WEIGHT}),\n",
        "                                     init_postsynaptic(\"ExpCurr\", {\"tau\": PN_KC_TAU_SYN}))\n",
        "pn_kc.set_sparse_connections(pn_kc_ind[0], pn_kc_ind[1])"
      ]
    },
    {
      "cell_type": "code",
      "execution_count": 18,
      "metadata": {
        "id": "NCL3jEsbo3T0"
      },
      "outputs": [],
      "source": [
        "kc_mbon = model.add_synapse_population(\"kc_mbon\", \"DENSE\",\n",
        "                                       kc, mbon,\n",
        "                                       init_weight_update(\"StaticPulse\", {}, {\"g\": kc_mbon_g}),\n",
        "                                       init_postsynaptic(\"ExpCurr\", {\"tau\": KC_MBON_TAU_SYN}))"
      ]
    },
    {
      "cell_type": "markdown",
      "metadata": {
        "id": "-GU4oXOS9Lil"
      },
      "source": [
        "## Build model\n",
        "Generate code and load it into PyGeNN (as we're no longer recording spikes, we don't need to allocate a recording buffer)"
      ]
    },
    {
      "cell_type": "code",
      "execution_count": 19,
      "metadata": {
        "id": "-FE02Zoz9Lim"
      },
      "outputs": [],
      "source": [
        "# Convert present time into timesteps\n",
        "present_timesteps = int(round(PRESENT_TIME_MS / DT))\n",
        "\n",
        "# Build model and load it\n",
        "model.build()\n",
        "model.load(num_recording_timesteps=present_timesteps)"
      ]
    },
    {
      "cell_type": "markdown",
      "metadata": {
        "id": "CcpTaaB39Lim"
      },
      "source": [
        "## Simulate tutorial model\n",
        "As well as resetting the state of every neuron after presenting each stimuli, because we have now added synapses with their own dynamics, these also need to be reset.\n",
        " This function resets neuron state variables selected by the keys of a dictionary to the values specifed in the dictionary values and pushes the new values to the GPU."
      ]
    },
    {
      "cell_type": "markdown",
      "metadata": {
        "id": "DfcqDTVXdoRq"
      },
      "source": [
        "Now, like before, we loop through 4 stimuli and simulate the model. However, now we need to reset the Projection Neuron and Kenyon Cell populations; **and** the synapses between them. Additionally, we want to show spikes from the Kenyon Cells as well as the Projection Neurons."
      ]
    },
    {
      "cell_type": "code",
      "execution_count": 20,
      "metadata": {
        "id": "K9pAP8OrJUub"
      },
      "outputs": [],
      "source": [
        "def reset_out_post(pop):\n",
        "    pop.out_post.view[:] = 0.0\n",
        "    pop.out_post.push_to_device()\n",
        "\n",
        "def reset_neuron(pop, var_init):\n",
        "    # Reset variables\n",
        "    for var_name, var_val in var_init.items():\n",
        "        pop.vars[var_name].view[:] = var_val\n",
        "\n",
        "        # Push the new values to GPU\n",
        "        pop.vars[var_name].push_to_device()"
      ]
    },
    {
      "cell_type": "code",
      "execution_count": 21,
      "metadata": {
        "colab": {
          "base_uri": "https://localhost:8080/",
          "height": 1000
        },
        "id": "MOZDBWPyqpR6",
        "outputId": "efc0b473-4e89-4e00-dd38-9444acba365f"
      },
      "outputs": [
        {
          "output_type": "display_data",
          "data": {
            "text/plain": [
              "<Figure size 640x480 with 3 Axes>"
            ],
            "image/png": "[encoded data removed]"
          },
          "metadata": {}
        },
        {
          "output_type": "display_data",
          "data": {
            "text/plain": [
              "<Figure size 640x480 with 3 Axes>"
            ],
            "image/png": "[encoded data removed]"
          },
          "metadata": {}
        },
        {
          "output_type": "display_data",
          "data": {
            "text/plain": [
              "<Figure size 640x480 with 3 Axes>"
            ],
            "image/png": "[encoded data removed]"
          },
          "metadata": {}
        },
        {
          "output_type": "display_data",
          "data": {
            "text/plain": [
              "<Figure size 640x480 with 3 Axes>"
            ],
            "image/png": "[encoded data removed]"
          },
          "metadata": {}
        }
      ],
      "source": [
        "for s in range(4):\n",
        "    # Set testing image\n",
        "    pn_input.vars[\"magnitude\"].view[:] = testing_images[s] * INPUT_SCALE\n",
        "    pn_input.vars[\"magnitude\"].push_to_device()\n",
        "\n",
        "    # Simulate present timesteps\n",
        "    for i in range(present_timesteps):\n",
        "        model.step_time()\n",
        "\n",
        "    # Reset neuron state for next stimuli\n",
        "    reset_neuron(pn, lif_init)\n",
        "    reset_neuron(kc, lif_init)\n",
        "    reset_neuron(ggn, if_init)\n",
        "    reset_neuron(mbon, lif_init)\n",
        "\n",
        "    # Reset synapse state\n",
        "    reset_out_post(pn_kc)\n",
        "    reset_out_post(ggn_kc)\n",
        "\n",
        "    # Download spikes from GPU\n",
        "    model.pull_recording_buffers_from_device();\n",
        "\n",
        "    # Plot PN, KC and MBON spikes\n",
        "    fig, axes = plt.subplots(3, sharex=True)\n",
        "    pn_spike_times, pn_spike_ids = pn.spike_recording_data[0]\n",
        "    kc_spike_times, kc_spike_ids = kc.spike_recording_data[0]\n",
        "    mbon_spike_times, mbon_spike_ids = mbon.spike_recording_data[0]\n",
        "\n",
        "\n",
        "    axes[0].scatter(pn_spike_times, pn_spike_ids, s=1)\n",
        "    axes[0].set_ylabel(\"PN\")\n",
        "    axes[1].scatter(kc_spike_times, kc_spike_ids, s=1)\n",
        "    axes[1].set_ylabel(\"KC\")\n",
        "    axes[2].scatter(mbon_spike_times, mbon_spike_ids, s=2)\n",
        "    axes[2].axhline(testing_labels[s], linestyle=\"--\", color=\"green\", alpha=0.3)\n",
        "    axes[2].set_ylim((-0.5, 10.5))\n",
        "\n",
        "    if len(mbon_spike_times) > 0:\n",
        "        classification = mbon_spike_ids[np.argmin(mbon_spike_times)]\n",
        "        axes[2].axhline(classification, linestyle=\"--\", color=\"red\", alpha=0.3)\n",
        "    axes[2].set_ylabel(\"MBON\")\n",
        "\n",
        "    axes[2].set_xlabel(\"Time [ms]\")"
      ]
    },
    {
      "cell_type": "code",
      "execution_count": 22,
      "metadata": {
        "colab": {
          "base_uri": "https://localhost:8080/",
          "height": 84,
          "referenced_widgets": [
            "49172ec692c4478589d91893a94f5009",
            "7dd7c19b9cee42498fbb820570377763",
            "3992f8821e0340a49dfa6a6808037fcf",
            "7c207b799cfa48d887f043302ceb088a",
            "76f8ffa6f1c94d3794a9d8a92233a827",
            "5c7772689a174507b44a4dc74cd7c2e2",
            "4c5b46ae28b541e095fc90b17003a3ff",
            "c987f3e421a54bfcaa50262b5244eb20",
            "080854cd27b543f7b1c4a46ea9f416c6",
            "2e02be7339284b358afe5b2508b1af0d",
            "1ad6314750374eb8b11c875c17a17f5a"
          ]
        },
        "id": "T1u8nh2Iqsmi",
        "outputId": "340ae3c8-435e-4026-e3a1-94bba9a27725"
      },
      "outputs": [
        {
          "output_type": "display_data",
          "data": {
            "text/plain": [
              "  0%|          | 0/10000 [00:00<?, ?it/s]"
            ],
            "application/vnd.jupyter.widget-view+json": {
              "version_major": 2,
              "version_minor": 0,
              "model_id": "49172ec692c4478589d91893a94f5009"
            }
          },
          "metadata": {}
        },
        {
          "output_type": "stream",
          "name": "stdout",
          "text": [
            "\n",
            "8087/10000 correct (80.87 %%)\n"
          ]
        }
      ],
      "source": [
        "num_correct = 0\n",
        "for s in tqdm(range(testing_images.shape[0])):\n",
        "    # Set testing image\n",
        "    pn_input.vars[\"magnitude\"].view[:] = testing_images[s] * INPUT_SCALE\n",
        "    pn_input.vars[\"magnitude\"].push_to_device()\n",
        "\n",
        "    # Simulate present timesteps\n",
        "    for i in range(present_timesteps):\n",
        "        model.step_time()\n",
        "\n",
        "    # Reset neuron state\n",
        "    reset_neuron(pn, lif_init)\n",
        "    reset_neuron(kc, lif_init)\n",
        "    reset_neuron(ggn, if_init)\n",
        "    reset_neuron(mbon, lif_init)\n",
        "\n",
        "    # Reset synapse state\n",
        "    reset_out_post(pn_kc)\n",
        "    reset_out_post(ggn_kc)\n",
        "    reset_out_post(kc_mbon)\n",
        "\n",
        "    # Download spikes from GPU\n",
        "    model.pull_recording_buffers_from_device();\n",
        "\n",
        "    # Determine the classification and count correct\n",
        "    mbon_spike_times, mbon_spike_ids = mbon.spike_recording_data[0]\n",
        "    if len(mbon_spike_times) > 0:\n",
        "        if mbon_spike_ids[np.argmin(mbon_spike_times)] == testing_labels[s]:\n",
        "            num_correct += 1\n",
        "\n",
        "print(f\"\\n{num_correct}/{testing_images.shape[0]} correct ({(num_correct * 100.0) / testing_images.shape[0]} %%)\")"
      ]
    }
  ],
  "metadata": {
    "accelerator": "GPU",
    "colab": {
      "name": "5_testing",
      "provenance": []
    },
    "kernelspec": {
      "display_name": "Python 3",
      "language": "python",
      "name": "python3"
    },
    "language_info": {
      "codemirror_mode": {
        "name": "ipython",
        "version": 3
      },
      "file_extension": ".py",
      "mimetype": "text/x-python",
      "name": "python",
      "nbconvert_exporter": "python",
      "pygments_lexer": "ipython3",
      "version": "3.7.7"
    },
    "widgets": {
      "application/vnd.jupyter.widget-state+json": {
        "49172ec692c4478589d91893a94f5009": {
          "model_module": "@jupyter-widgets/controls",
          "model_name": "HBoxModel",
          "model_module_version": "1.5.0",
          "state": {
            "_dom_classes": [],
            "_model_module": "@jupyter-widgets/controls",
            "_model_module_version": "1.5.0",
            "_model_name": "HBoxModel",
            "_view_count": null,
            "_view_module": "@jupyter-widgets/controls",
            "_view_module_version": "1.5.0",
            "_view_name": "HBoxView",
            "box_style": "",
            "children": [
              "IPY_MODEL_7dd7c19b9cee42498fbb820570377763",
              "IPY_MODEL_3992f8821e0340a49dfa6a6808037fcf",
              "IPY_MODEL_7c207b799cfa48d887f043302ceb088a"
            ],
            "layout": "IPY_MODEL_76f8ffa6f1c94d3794a9d8a92233a827"
          }
        },
        "7dd7c19b9cee42498fbb820570377763": {
          "model_module": "@jupyter-widgets/controls",
          "model_name": "HTMLModel",
          "model_module_version": "1.5.0",
          "state": {
            "_dom_classes": [],
            "_model_module": "@jupyter-widgets/controls",
            "_model_module_version": "1.5.0",
            "_model_name": "HTMLModel",
            "_view_count": null,
            "_view_module": "@jupyter-widgets/controls",
            "_view_module_version": "1.5.0",
            "_view_name": "HTMLView",
            "description": "",
            "description_tooltip": null,
            "layout": "IPY_MODEL_5c7772689a174507b44a4dc74cd7c2e2",
            "placeholder": "​",
            "style": "IPY_MODEL_4c5b46ae28b541e095fc90b17003a3ff",
            "value": "100%"
          }
        },
        "3992f8821e0340a49dfa6a6808037fcf": {
          "model_module": "@jupyter-widgets/controls",
          "model_name": "FloatProgressModel",
          "model_module_version": "1.5.0",
          "state": {
            "_dom_classes": [],
            "_model_module": "@jupyter-widgets/controls",
            "_model_module_version": "1.5.0",
            "_model_name": "FloatProgressModel",
            "_view_count": null,
            "_view_module": "@jupyter-widgets/controls",
            "_view_module_version": "1.5.0",
            "_view_name": "ProgressView",
            "bar_style": "success",
            "description": "",
            "description_tooltip": null,
            "layout": "IPY_MODEL_c987f3e421a54bfcaa50262b5244eb20",
            "max": 10000,
            "min": 0,
            "orientation": "horizontal",
            "style": "IPY_MODEL_080854cd27b543f7b1c4a46ea9f416c6",
            "value": 10000
          }
        },
        "7c207b799cfa48d887f043302ceb088a": {
          "model_module": "@jupyter-widgets/controls",
          "model_name": "HTMLModel",
          "model_module_version": "1.5.0",
          "state": {
            "_dom_classes": [],
            "_model_module": "@jupyter-widgets/controls",
            "_model_module_version": "1.5.0",
            "_model_name": "HTMLModel",
            "_view_count": null,
            "_view_module": "@jupyter-widgets/controls",
            "_view_module_version": "1.5.0",
            "_view_name": "HTMLView",
            "description": "",
            "description_tooltip": null,
            "layout": "IPY_MODEL_2e02be7339284b358afe5b2508b1af0d",
            "placeholder": "​",
            "style": "IPY_MODEL_1ad6314750374eb8b11c875c17a17f5a",
            "value": " 10000/10000 [00:27&lt;00:00, 296.13it/s]"
          }
        },
        "76f8ffa6f1c94d3794a9d8a92233a827": {
          "model_module": "@jupyter-widgets/base",
          "model_name": "LayoutModel",
          "model_module_version": "1.2.0",
          "state": {
            "_model_module": "@jupyter-widgets/base",
            "_model_module_version": "1.2.0",
            "_model_name": "LayoutModel",
            "_view_count": null,
            "_view_module": "@jupyter-widgets/base",
            "_view_module_version": "1.2.0",
            "_view_name": "LayoutView",
            "align_content": null,
            "align_items": null,
            "align_self": null,
            "border": null,
            "bottom": null,
            "display": null,
            "flex": null,
            "flex_flow": null,
            "grid_area": null,
            "grid_auto_columns": null,
            "grid_auto_flow": null,
            "grid_auto_rows": null,
            "grid_column": null,
            "grid_gap": null,
            "grid_row": null,
            "grid_template_areas": null,
            "grid_template_columns": null,
            "grid_template_rows": null,
            "height": null,
            "justify_content": null,
            "justify_items": null,
            "left": null,
            "margin": null,
            "max_height": null,
            "max_width": null,
            "min_height": null,
            "min_width": null,
            "object_fit": null,
            "object_position": null,
            "order": null,
            "overflow": null,
            "overflow_x": null,
            "overflow_y": null,
            "padding": null,
            "right": null,
            "top": null,
            "visibility": null,
            "width": null
          }
        },
        "5c7772689a174507b44a4dc74cd7c2e2": {
          "model_module": "@jupyter-widgets/base",
          "model_name": "LayoutModel",
          "model_module_version": "1.2.0",
          "state": {
            "_model_module": "@jupyter-widgets/base",
            "_model_module_version": "1.2.0",
            "_model_name": "LayoutModel",
            "_view_count": null,
            "_view_module": "@jupyter-widgets/base",
            "_view_module_version": "1.2.0",
            "_view_name": "LayoutView",
            "align_content": null,
            "align_items": null,
            "align_self": null,
            "border": null,
            "bottom": null,
            "display": null,
            "flex": null,
            "flex_flow": null,
            "grid_area": null,
            "grid_auto_columns": null,
            "grid_auto_flow": null,
            "grid_auto_rows": null,
            "grid_column": null,
            "grid_gap": null,
            "grid_row": null,
            "grid_template_areas": null,
            "grid_template_columns": null,
            "grid_template_rows": null,
            "height": null,
            "justify_content": null,
            "justify_items": null,
            "left": null,
            "margin": null,
            "max_height": null,
            "max_width": null,
            "min_height": null,
            "min_width": null,
            "object_fit": null,
            "object_position": null,
            "order": null,
            "overflow": null,
            "overflow_x": null,
            "overflow_y": null,
            "padding": null,
            "right": null,
            "top": null,
            "visibility": null,
            "width": null
          }
        },
        "4c5b46ae28b541e095fc90b17003a3ff": {
          "model_module": "@jupyter-widgets/controls",
          "model_name": "DescriptionStyleModel",
          "model_module_version": "1.5.0",
          "state": {
            "_model_module": "@jupyter-widgets/controls",
            "_model_module_version": "1.5.0",
            "_model_name": "DescriptionStyleModel",
            "_view_count": null,
            "_view_module": "@jupyter-widgets/base",
            "_view_module_version": "1.2.0",
            "_view_name": "StyleView",
            "description_width": ""
          }
        },
        "c987f3e421a54bfcaa50262b5244eb20": {
          "model_module": "@jupyter-widgets/base",
          "model_name": "LayoutModel",
          "model_module_version": "1.2.0",
          "state": {
            "_model_module": "@jupyter-widgets/base",
            "_model_module_version": "1.2.0",
            "_model_name": "LayoutModel",
            "_view_count": null,
            "_view_module": "@jupyter-widgets/base",
            "_view_module_version": "1.2.0",
            "_view_name": "LayoutView",
            "align_content": null,
            "align_items": null,
            "align_self": null,
            "border": null,
            "bottom": null,
            "display": null,
            "flex": null,
            "flex_flow": null,
            "grid_area": null,
            "grid_auto_columns": null,
            "grid_auto_flow": null,
            "grid_auto_rows": null,
            "grid_column": null,
            "grid_gap": null,
            "grid_row": null,
            "grid_template_areas": null,
            "grid_template_columns": null,
            "grid_template_rows": null,
            "height": null,
            "justify_content": null,
            "justify_items": null,
            "left": null,
            "margin": null,
            "max_height": null,
            "max_width": null,
            "min_height": null,
            "min_width": null,
            "object_fit": null,
            "object_position": null,
            "order": null,
            "overflow": null,
            "overflow_x": null,
            "overflow_y": null,
            "padding": null,
            "right": null,
            "top": null,
            "visibility": null,
            "width": null
          }
        },
        "080854cd27b543f7b1c4a46ea9f416c6": {
          "model_module": "@jupyter-widgets/controls",
          "model_name": "ProgressStyleModel",
          "model_module_version": "1.5.0",
          "state": {
            "_model_module": "@jupyter-widgets/controls",
            "_model_module_version": "1.5.0",
            "_model_name": "ProgressStyleModel",
            "_view_count": null,
            "_view_module": "@jupyter-widgets/base",
            "_view_module_version": "1.2.0",
            "_view_name": "StyleView",
            "bar_color": null,
            "description_width": ""
          }
        },
        "2e02be7339284b358afe5b2508b1af0d": {
          "model_module": "@jupyter-widgets/base",
          "model_name": "LayoutModel",
          "model_module_version": "1.2.0",
          "state": {
            "_model_module": "@jupyter-widgets/base",
            "_model_module_version": "1.2.0",
            "_model_name": "LayoutModel",
            "_view_count": null,
            "_view_module": "@jupyter-widgets/base",
            "_view_module_version": "1.2.0",
            "_view_name": "LayoutView",
            "align_content": null,
            "align_items": null,
            "align_self": null,
            "border": null,
            "bottom": null,
            "display": null,
            "flex": null,
            "flex_flow": null,
            "grid_area": null,
            "grid_auto_columns": null,
            "grid_auto_flow": null,
            "grid_auto_rows": null,
            "grid_column": null,
            "grid_gap": null,
            "grid_row": null,
            "grid_template_areas": null,
            "grid_template_columns": null,
            "grid_template_rows": null,
            "height": null,
            "justify_content": null,
            "justify_items": null,
            "left": null,
            "margin": null,
            "max_height": null,
            "max_width": null,
            "min_height": null,
            "min_width": null,
            "object_fit": null,
            "object_position": null,
            "order": null,
            "overflow": null,
            "overflow_x": null,
            "overflow_y": null,
            "padding": null,
            "right": null,
            "top": null,
            "visibility": null,
            "width": null
          }
        },
        "1ad6314750374eb8b11c875c17a17f5a": {
          "model_module": "@jupyter-widgets/controls",
          "model_name": "DescriptionStyleModel",
          "model_module_version": "1.5.0",
          "state": {
            "_model_module": "@jupyter-widgets/controls",
            "_model_module_version": "1.5.0",
            "_model_name": "DescriptionStyleModel",
            "_view_count": null,
            "_view_module": "@jupyter-widgets/base",
            "_view_module_version": "1.2.0",
            "_view_name": "StyleView",
            "description_width": ""
          }
        }
      }
    }
  },
  "nbformat": 4,
  "nbformat_minor": 0
}
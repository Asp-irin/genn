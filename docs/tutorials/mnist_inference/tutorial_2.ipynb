{
  "cells": [
    {
      "cell_type": "markdown",
      "metadata": {
        "id": "lGa0_oLb61zz"
      },
      "source": [
        "# Classification of the entire test set\n",
        "In this tutorial we're going to take the model we developed in the previous tutorial, run it on the entire MNIST testing set and calculate the overall classification accuracy.\n",
        "\n",
        "## Install PyGeNN wheel from Google Drive\n",
        "Download wheel file"
      ]
    },
    {
      "cell_type": "code",
      "source": [
        "if \"google.colab\" in str(get_ipython()):\n",
        "    !gdown 1OJH0FAR4GRsvIKkHw0NBM-9aYU2VJ1bo\n",
        "    !pip install pygenn-5.1.0-cp310-cp310-linux_x86_64.whl\n",
        "    %env CUDA_PATH=/usr/local/cuda"
      ],
      "metadata": {
        "id": "Qqz__TiIdE9x",
        "outputId": "e736020d-0e79-408c-ba33-518f143b5b8c",
        "colab": {
          "base_uri": "https://localhost:8080/"
        }
      },
      "execution_count": 1,
      "outputs": [
        {
          "output_type": "stream",
          "name": "stdout",
          "text": [
            "Downloading...\n",
            "From: https://drive.google.com/uc?id=1OJH0FAR4GRsvIKkHw0NBM-9aYU2VJ1bo\n",
            "To: /content/pygenn-5.1.0-cp310-cp310-linux_x86_64.whl\n",
            "\r  0% 0.00/8.47M [00:00<?, ?B/s]\r100% 8.47M/8.47M [00:00<00:00, 200MB/s]\n",
            "Processing ./pygenn-5.1.0-cp310-cp310-linux_x86_64.whl\n",
            "Requirement already satisfied: numpy>=1.17 in /usr/local/lib/python3.10/dist-packages (from pygenn==5.1.0) (1.26.4)\n",
            "Requirement already satisfied: psutil in /usr/local/lib/python3.10/dist-packages (from pygenn==5.1.0) (5.9.5)\n",
            "Requirement already satisfied: setuptools in /usr/local/lib/python3.10/dist-packages (from pygenn==5.1.0) (75.1.0)\n",
            "pygenn is already installed with the same version as the provided wheel. Use --force-reinstall to force an installation of the wheel.\n",
            "env: CUDA_PATH=/usr/local/cuda\n"
          ]
        }
      ]
    },
    {
      "cell_type": "markdown",
      "metadata": {
        "id": "8tqbF5GldF0o"
      },
      "source": [
        "## Download pre-trained weights and MNIST test data"
      ]
    },
    {
      "cell_type": "code",
      "execution_count": 2,
      "metadata": {
        "colab": {
          "base_uri": "https://localhost:8080/"
        },
        "id": "N-2PV7LcdFg_",
        "outputId": "4f3891b6-c9d3-4255-a474-ca5fdf5038f3"
      },
      "outputs": [
        {
          "output_type": "stream",
          "name": "stdout",
          "text": [
            "Downloading...\n",
            "From: https://drive.google.com/uc?id=1cmNL8W0QZZtn3dPHiOQnVjGAYTk6Rhpc\n",
            "To: /content/weights_0_1.npy\n",
            "100% 402k/402k [00:00<00:00, 47.7MB/s]\n",
            "Downloading...\n",
            "From: https://drive.google.com/uc?id=131lCXLEH6aTXnBZ9Nh4eJLSy5DQ6LKSF\n",
            "To: /content/weights_1_2.npy\n",
            "100% 5.25k/5.25k [00:00<00:00, 19.1MB/s]\n"
          ]
        }
      ],
      "source": [
        "!gdown 1cmNL8W0QZZtn3dPHiOQnVjGAYTk6Rhpc\n",
        "!gdown 131lCXLEH6aTXnBZ9Nh4eJLSy5DQ6LKSF"
      ]
    },
    {
      "cell_type": "markdown",
      "source": [
        "## Install MNIST package"
      ],
      "metadata": {
        "id": "KVRtXVzIg07T"
      }
    },
    {
      "cell_type": "code",
      "source": [
        "!pip install mnist"
      ],
      "metadata": {
        "id": "AikBc4sfg1b-",
        "outputId": "3de6d9ba-2def-4e50-e056-a7439efc9b88",
        "colab": {
          "base_uri": "https://localhost:8080/"
        }
      },
      "execution_count": 3,
      "outputs": [
        {
          "output_type": "stream",
          "name": "stdout",
          "text": [
            "Collecting mnist\n",
            "  Downloading mnist-0.2.2-py2.py3-none-any.whl.metadata (1.6 kB)\n",
            "Requirement already satisfied: numpy in /usr/local/lib/python3.10/dist-packages (from mnist) (1.26.4)\n",
            "Downloading mnist-0.2.2-py2.py3-none-any.whl (3.5 kB)\n",
            "Installing collected packages: mnist\n",
            "Successfully installed mnist-0.2.2\n"
          ]
        }
      ]
    },
    {
      "cell_type": "markdown",
      "metadata": {
        "id": "l7UOIOeX1xeE"
      },
      "source": [
        "## Build model\n",
        "As well as the standard modules and required PyGeNN functions and classes we used in the first tutorial, also import `time.perf_counter` for measuring the performance of our classifier and `tqdm.tqdm` for drawing progress bars"
      ]
    },
    {
      "cell_type": "code",
      "execution_count": 4,
      "metadata": {
        "id": "agqWFZjickfU"
      },
      "outputs": [],
      "source": [
        "import mnist\n",
        "import numpy as np\n",
        "import matplotlib.pyplot as plt\n",
        "from pygenn import (create_neuron_model, create_current_source_model,\n",
        "                    init_postsynaptic, init_weight_update, GeNNModel)\n",
        "from time import perf_counter\n",
        "from tqdm.auto import tqdm"
      ]
    },
    {
      "cell_type": "markdown",
      "metadata": {
        "id": "FMBcXoyd4yS1"
      },
      "source": [
        "As before, define some simulation parameters"
      ]
    },
    {
      "cell_type": "code",
      "execution_count": 5,
      "metadata": {
        "id": "KqBx7iO_kApE"
      },
      "outputs": [],
      "source": [
        "TIMESTEP = 1.0\n",
        "PRESENT_TIMESTEPS = 100\n",
        "INPUT_CURRENT_SCALE = 1.0 / 100.0"
      ]
    },
    {
      "cell_type": "markdown",
      "metadata": {
        "id": "2QlVBYQG431K"
      },
      "source": [
        "Create very similar neuron and current source models. However, to avoid having to download every spike and count them on the CPU, here, we add an additional state variable `SpikeCount` to each neuron which gets incremented in the reset code to count spikes."
      ]
    },
    {
      "cell_type": "code",
      "execution_count": 6,
      "metadata": {
        "id": "-7lzXzmQcgbt"
      },
      "outputs": [],
      "source": [
        "# Very simple integrate-and-fire neuron model\n",
        "if_model = create_neuron_model(\n",
        "    \"if_model\",\n",
        "    params=[\"Vthr\"],\n",
        "    vars=[(\"V\", \"scalar\"), (\"SpikeCount\", \"unsigned int\")],\n",
        "    sim_code=\"V += Isyn * dt;\",\n",
        "    reset_code=\"\"\"\n",
        "    V = 0.0;\n",
        "    SpikeCount++;\n",
        "    \"\"\",\n",
        "    threshold_condition_code=\"V >= Vthr\")\n",
        "\n",
        "cs_model = create_current_source_model(\n",
        "    \"cs_model\",\n",
        "    vars=[(\"magnitude\", \"scalar\")],\n",
        "    injection_code=\"injectCurrent(magnitude);\")"
      ]
    },
    {
      "cell_type": "markdown",
      "metadata": {
        "id": "lWMtozHB3OrM"
      },
      "source": [
        "Build model, load weights and create neuron, synapse and current source populations as before"
      ]
    },
    {
      "cell_type": "code",
      "execution_count": 7,
      "metadata": {
        "id": "Sx1VOU5udixG"
      },
      "outputs": [],
      "source": [
        "model = GeNNModel(\"float\", \"tutorial_2\")\n",
        "model.dt = TIMESTEP\n",
        "\n",
        "# Load weights\n",
        "weights_0_1 = np.load(\"weights_0_1.npy\")\n",
        "weights_1_2 = np.load(\"weights_1_2.npy\")\n",
        "\n",
        "if_params = {\"Vthr\": 5.0}\n",
        "if_init = {\"V\": 0.0, \"SpikeCount\":0}\n",
        "neurons = [model.add_neuron_population(\"neuron0\", weights_0_1.shape[0],\n",
        "                                       if_model, if_params, if_init),\n",
        "           model.add_neuron_population(\"neuron1\", weights_0_1.shape[1],\n",
        "                                       if_model, if_params, if_init),\n",
        "           model.add_neuron_population(\"neuron2\", weights_1_2.shape[1],\n",
        "                                       if_model, if_params, if_init)]\n",
        "model.add_synapse_population(\n",
        "        \"synapse_0_1\", \"DENSE\",\n",
        "        neurons[0], neurons[1],\n",
        "        init_weight_update(\"StaticPulse\", {}, {\"g\": weights_0_1.flatten()}),\n",
        "        init_postsynaptic(\"DeltaCurr\"))\n",
        "model.add_synapse_population(\n",
        "        \"synapse_1_2\", \"DENSE\",\n",
        "        neurons[1], neurons[2],\n",
        "        init_weight_update(\"StaticPulse\", {}, {\"g\": weights_1_2.flatten()}),\n",
        "        init_postsynaptic(\"DeltaCurr\"));\n",
        "\n",
        "current_input = model.add_current_source(\"current_input\", cs_model,\n",
        "                                         neurons[0], {}, {\"magnitude\": 0.0})"
      ]
    },
    {
      "cell_type": "markdown",
      "metadata": {
        "id": "jdggjUe13tT_"
      },
      "source": [
        "Run code generator to generate simulation code for model and load it into PyGeNN as before but, here, we don't want to record any spikes so no need to specify a recording buffer size."
      ]
    },
    {
      "cell_type": "code",
      "execution_count": 8,
      "metadata": {
        "id": "K8kHbKMJ3kIY"
      },
      "outputs": [],
      "source": [
        "model.build()\n",
        "model.load()"
      ]
    },
    {
      "cell_type": "markdown",
      "metadata": {
        "id": "rUxwsE323l37"
      },
      "source": [
        "Just like in the previous tutorial, load testing images and labels and verify their dimensions"
      ]
    },
    {
      "cell_type": "code",
      "execution_count": 9,
      "metadata": {
        "id": "0Tf07KUOeP-X"
      },
      "outputs": [],
      "source": [
        "mnist.datasets_url = \"https://storage.googleapis.com/cvdf-datasets/mnist/\"\n",
        "testing_images = mnist.test_images()\n",
        "testing_labels = mnist.test_labels()\n",
        "\n",
        "testing_images = np.reshape(testing_images, (testing_images.shape[0], -1))\n",
        "assert testing_images.shape[1] == weights_0_1.shape[0]\n",
        "assert np.max(testing_labels) == (weights_1_2.shape[1] - 1)"
      ]
    },
    {
      "cell_type": "markdown",
      "metadata": {
        "id": "r-TFULk_3i8z"
      },
      "source": [
        "## Simulate model\n",
        "In this tutorial we're going to not only inject current but also access the new spike count variable in the output population and reset the voltages throughout the model. Therefore we need to create some additional memory views"
      ]
    },
    {
      "cell_type": "code",
      "execution_count": 10,
      "metadata": {
        "id": "3z1ccKHeejeB"
      },
      "outputs": [],
      "source": [
        "current_input_magnitude = current_input.vars[\"magnitude\"]\n",
        "output_spike_count = neurons[-1].vars[\"SpikeCount\"]\n",
        "neuron_voltages = [n.vars[\"V\"] for n in neurons]"
      ]
    },
    {
      "cell_type": "markdown",
      "metadata": {
        "id": "JCDP_sTa4HTL"
      },
      "source": [
        "Now, we define our inference loop. We loop through all of the testing images and for each one:\n",
        "\n",
        "1.   Copy the (scaled) image data into the current input memory view and copy it to the GPU\n",
        "2.   Loop through all the neuron populations, zero their membrance voltages and copy these to the GPU\n",
        "3. Zero the output spike count and copy that to the GPU\n",
        "4. Simulate the model for `PRESENT_TIMESTEPS`\n",
        "5. Download the spike counts from the output layer\n",
        "6. If highest spike count corresponds to correct label, increment `num_correct`\n",
        "\n"
      ]
    },
    {
      "cell_type": "code",
      "execution_count": 11,
      "metadata": {
        "colab": {
          "base_uri": "https://localhost:8080/",
          "height": 101,
          "referenced_widgets": [
            "bf1d3b07065b472a94fb3aec0f72fe43",
            "4b527efeea5c468d948ea096cab5184b",
            "e0deaabe628b4a25b2a1cf25c268ad7e",
            "399a44ea230d4660b9c1c96bfc7d7b75",
            "b9a78185deba437facec9281ab2ba896",
            "f0232261485d4aff9dccfc62da3bd22a",
            "33c14161ae2c4cf08d021e2b951ac908",
            "a90f9753b20b49e293e411bcf8cb19fc",
            "8f45d4358ffd4b0cad8f7a25c922bf35",
            "f3aecbe8c5e14160850cbfce713588bc",
            "313f61f34af64c22b5d108bdbc17e80b"
          ]
        },
        "id": "4qSoinT4etKq",
        "outputId": "2bcc0eda-0bbf-4570-8cd8-f5dcdaa239e1"
      },
      "outputs": [
        {
          "output_type": "display_data",
          "data": {
            "text/plain": [
              "  0%|          | 0/10000 [00:00<?, ?it/s]"
            ],
            "application/vnd.jupyter.widget-view+json": {
              "version_major": 2,
              "version_minor": 0,
              "model_id": "bf1d3b07065b472a94fb3aec0f72fe43"
            }
          },
          "metadata": {}
        },
        {
          "output_type": "stream",
          "name": "stdout",
          "text": [
            "\n",
            "Accuracy 97.44%%\n",
            "Time 11.59845029600001 seconds\n"
          ]
        }
      ],
      "source": [
        "# Simulate\n",
        "num_correct = 0\n",
        "start_time = perf_counter()\n",
        "for i in tqdm(range(testing_images.shape[0])):\n",
        "    current_input_magnitude.values = testing_images[i] * INPUT_CURRENT_SCALE\n",
        "    current_input_magnitude.push_to_device()\n",
        "\n",
        "    # Loop through all voltage variables\n",
        "    for v in neuron_voltages:\n",
        "        # Manually 'reset' voltage\n",
        "        v.view[:] = 0.0\n",
        "\n",
        "        # Upload\n",
        "        v.push_to_device()\n",
        "\n",
        "    # Zero spike count\n",
        "    output_spike_count.view[:] = 0\n",
        "    output_spike_count.push_to_device()\n",
        "\n",
        "    for t in range(PRESENT_TIMESTEPS):\n",
        "        model.step_time()\n",
        "\n",
        "    # Download spike count from last layer\n",
        "    output_spike_count.pull_from_device()\n",
        "\n",
        "    # Find which neuron spiked the most to get prediction\n",
        "    predicted_label = np.argmax(output_spike_count.values)\n",
        "    true_label = testing_labels[i]\n",
        "\n",
        "    if predicted_label == true_label:\n",
        "        num_correct += 1\n",
        "\n",
        "end_time = perf_counter()\n",
        "print(f\"\\nAccuracy {((num_correct / float(testing_images.shape[0])) * 100.0)}%%\")\n",
        "print(f\"Time {end_time - start_time} seconds\")\n"
      ]
    }
  ],
  "metadata": {
    "accelerator": "GPU",
    "colab": {
      "name": "tutorial_2",
      "provenance": []
    },
    "kernelspec": {
      "display_name": "Python 3",
      "language": "python",
      "name": "python3"
    },
    "language_info": {
      "codemirror_mode": {
        "name": "ipython",
        "version": 3
      },
      "file_extension": ".py",
      "mimetype": "text/x-python",
      "name": "python",
      "nbconvert_exporter": "python",
      "pygments_lexer": "ipython3",
      "version": "3.7.7"
    },
    "widgets": {
      "application/vnd.jupyter.widget-state+json": {
        "bf1d3b07065b472a94fb3aec0f72fe43": {
          "model_module": "@jupyter-widgets/controls",
          "model_name": "HBoxModel",
          "model_module_version": "1.5.0",
          "state": {
            "_dom_classes": [],
            "_model_module": "@jupyter-widgets/controls",
            "_model_module_version": "1.5.0",
            "_model_name": "HBoxModel",
            "_view_count": null,
            "_view_module": "@jupyter-widgets/controls",
            "_view_module_version": "1.5.0",
            "_view_name": "HBoxView",
            "box_style": "",
            "children": [
              "IPY_MODEL_4b527efeea5c468d948ea096cab5184b",
              "IPY_MODEL_e0deaabe628b4a25b2a1cf25c268ad7e",
              "IPY_MODEL_399a44ea230d4660b9c1c96bfc7d7b75"
            ],
            "layout": "IPY_MODEL_b9a78185deba437facec9281ab2ba896"
          }
        },
        "4b527efeea5c468d948ea096cab5184b": {
          "model_module": "@jupyter-widgets/controls",
          "model_name": "HTMLModel",
          "model_module_version": "1.5.0",
          "state": {
            "_dom_classes": [],
            "_model_module": "@jupyter-widgets/controls",
            "_model_module_version": "1.5.0",
            "_model_name": "HTMLModel",
            "_view_count": null,
            "_view_module": "@jupyter-widgets/controls",
            "_view_module_version": "1.5.0",
            "_view_name": "HTMLView",
            "description": "",
            "description_tooltip": null,
            "layout": "IPY_MODEL_f0232261485d4aff9dccfc62da3bd22a",
            "placeholder": "​",
            "style": "IPY_MODEL_33c14161ae2c4cf08d021e2b951ac908",
            "value": "100%"
          }
        },
        "e0deaabe628b4a25b2a1cf25c268ad7e": {
          "model_module": "@jupyter-widgets/controls",
          "model_name": "FloatProgressModel",
          "model_module_version": "1.5.0",
          "state": {
            "_dom_classes": [],
            "_model_module": "@jupyter-widgets/controls",
            "_model_module_version": "1.5.0",
            "_model_name": "FloatProgressModel",
            "_view_count": null,
            "_view_module": "@jupyter-widgets/controls",
            "_view_module_version": "1.5.0",
            "_view_name": "ProgressView",
            "bar_style": "success",
            "description": "",
            "description_tooltip": null,
            "layout": "IPY_MODEL_a90f9753b20b49e293e411bcf8cb19fc",
            "max": 10000,
            "min": 0,
            "orientation": "horizontal",
            "style": "IPY_MODEL_8f45d4358ffd4b0cad8f7a25c922bf35",
            "value": 10000
          }
        },
        "399a44ea230d4660b9c1c96bfc7d7b75": {
          "model_module": "@jupyter-widgets/controls",
          "model_name": "HTMLModel",
          "model_module_version": "1.5.0",
          "state": {
            "_dom_classes": [],
            "_model_module": "@jupyter-widgets/controls",
            "_model_module_version": "1.5.0",
            "_model_name": "HTMLModel",
            "_view_count": null,
            "_view_module": "@jupyter-widgets/controls",
            "_view_module_version": "1.5.0",
            "_view_name": "HTMLView",
            "description": "",
            "description_tooltip": null,
            "layout": "IPY_MODEL_f3aecbe8c5e14160850cbfce713588bc",
            "placeholder": "​",
            "style": "IPY_MODEL_313f61f34af64c22b5d108bdbc17e80b",
            "value": " 10000/10000 [00:11&lt;00:00, 960.95it/s]"
          }
        },
        "b9a78185deba437facec9281ab2ba896": {
          "model_module": "@jupyter-widgets/base",
          "model_name": "LayoutModel",
          "model_module_version": "1.2.0",
          "state": {
            "_model_module": "@jupyter-widgets/base",
            "_model_module_version": "1.2.0",
            "_model_name": "LayoutModel",
            "_view_count": null,
            "_view_module": "@jupyter-widgets/base",
            "_view_module_version": "1.2.0",
            "_view_name": "LayoutView",
            "align_content": null,
            "align_items": null,
            "align_self": null,
            "border": null,
            "bottom": null,
            "display": null,
            "flex": null,
            "flex_flow": null,
            "grid_area": null,
            "grid_auto_columns": null,
            "grid_auto_flow": null,
            "grid_auto_rows": null,
            "grid_column": null,
            "grid_gap": null,
            "grid_row": null,
            "grid_template_areas": null,
            "grid_template_columns": null,
            "grid_template_rows": null,
            "height": null,
            "justify_content": null,
            "justify_items": null,
            "left": null,
            "margin": null,
            "max_height": null,
            "max_width": null,
            "min_height": null,
            "min_width": null,
            "object_fit": null,
            "object_position": null,
            "order": null,
            "overflow": null,
            "overflow_x": null,
            "overflow_y": null,
            "padding": null,
            "right": null,
            "top": null,
            "visibility": null,
            "width": null
          }
        },
        "f0232261485d4aff9dccfc62da3bd22a": {
          "model_module": "@jupyter-widgets/base",
          "model_name": "LayoutModel",
          "model_module_version": "1.2.0",
          "state": {
            "_model_module": "@jupyter-widgets/base",
            "_model_module_version": "1.2.0",
            "_model_name": "LayoutModel",
            "_view_count": null,
            "_view_module": "@jupyter-widgets/base",
            "_view_module_version": "1.2.0",
            "_view_name": "LayoutView",
            "align_content": null,
            "align_items": null,
            "align_self": null,
            "border": null,
            "bottom": null,
            "display": null,
            "flex": null,
            "flex_flow": null,
            "grid_area": null,
            "grid_auto_columns": null,
            "grid_auto_flow": null,
            "grid_auto_rows": null,
            "grid_column": null,
            "grid_gap": null,
            "grid_row": null,
            "grid_template_areas": null,
            "grid_template_columns": null,
            "grid_template_rows": null,
            "height": null,
            "justify_content": null,
            "justify_items": null,
            "left": null,
            "margin": null,
            "max_height": null,
            "max_width": null,
            "min_height": null,
            "min_width": null,
            "object_fit": null,
            "object_position": null,
            "order": null,
            "overflow": null,
            "overflow_x": null,
            "overflow_y": null,
            "padding": null,
            "right": null,
            "top": null,
            "visibility": null,
            "width": null
          }
        },
        "33c14161ae2c4cf08d021e2b951ac908": {
          "model_module": "@jupyter-widgets/controls",
          "model_name": "DescriptionStyleModel",
          "model_module_version": "1.5.0",
          "state": {
            "_model_module": "@jupyter-widgets/controls",
            "_model_module_version": "1.5.0",
            "_model_name": "DescriptionStyleModel",
            "_view_count": null,
            "_view_module": "@jupyter-widgets/base",
            "_view_module_version": "1.2.0",
            "_view_name": "StyleView",
            "description_width": ""
          }
        },
        "a90f9753b20b49e293e411bcf8cb19fc": {
          "model_module": "@jupyter-widgets/base",
          "model_name": "LayoutModel",
          "model_module_version": "1.2.0",
          "state": {
            "_model_module": "@jupyter-widgets/base",
            "_model_module_version": "1.2.0",
            "_model_name": "LayoutModel",
            "_view_count": null,
            "_view_module": "@jupyter-widgets/base",
            "_view_module_version": "1.2.0",
            "_view_name": "LayoutView",
            "align_content": null,
            "align_items": null,
            "align_self": null,
            "border": null,
            "bottom": null,
            "display": null,
            "flex": null,
            "flex_flow": null,
            "grid_area": null,
            "grid_auto_columns": null,
            "grid_auto_flow": null,
            "grid_auto_rows": null,
            "grid_column": null,
            "grid_gap": null,
            "grid_row": null,
            "grid_template_areas": null,
            "grid_template_columns": null,
            "grid_template_rows": null,
            "height": null,
            "justify_content": null,
            "justify_items": null,
            "left": null,
            "margin": null,
            "max_height": null,
            "max_width": null,
            "min_height": null,
            "min_width": null,
            "object_fit": null,
            "object_position": null,
            "order": null,
            "overflow": null,
            "overflow_x": null,
            "overflow_y": null,
            "padding": null,
            "right": null,
            "top": null,
            "visibility": null,
            "width": null
          }
        },
        "8f45d4358ffd4b0cad8f7a25c922bf35": {
          "model_module": "@jupyter-widgets/controls",
          "model_name": "ProgressStyleModel",
          "model_module_version": "1.5.0",
          "state": {
            "_model_module": "@jupyter-widgets/controls",
            "_model_module_version": "1.5.0",
            "_model_name": "ProgressStyleModel",
            "_view_count": null,
            "_view_module": "@jupyter-widgets/base",
            "_view_module_version": "1.2.0",
            "_view_name": "StyleView",
            "bar_color": null,
            "description_width": ""
          }
        },
        "f3aecbe8c5e14160850cbfce713588bc": {
          "model_module": "@jupyter-widgets/base",
          "model_name": "LayoutModel",
          "model_module_version": "1.2.0",
          "state": {
            "_model_module": "@jupyter-widgets/base",
            "_model_module_version": "1.2.0",
            "_model_name": "LayoutModel",
            "_view_count": null,
            "_view_module": "@jupyter-widgets/base",
            "_view_module_version": "1.2.0",
            "_view_name": "LayoutView",
            "align_content": null,
            "align_items": null,
            "align_self": null,
            "border": null,
            "bottom": null,
            "display": null,
            "flex": null,
            "flex_flow": null,
            "grid_area": null,
            "grid_auto_columns": null,
            "grid_auto_flow": null,
            "grid_auto_rows": null,
            "grid_column": null,
            "grid_gap": null,
            "grid_row": null,
            "grid_template_areas": null,
            "grid_template_columns": null,
            "grid_template_rows": null,
            "height": null,
            "justify_content": null,
            "justify_items": null,
            "left": null,
            "margin": null,
            "max_height": null,
            "max_width": null,
            "min_height": null,
            "min_width": null,
            "object_fit": null,
            "object_position": null,
            "order": null,
            "overflow": null,
            "overflow_x": null,
            "overflow_y": null,
            "padding": null,
            "right": null,
            "top": null,
            "visibility": null,
            "width": null
          }
        },
        "313f61f34af64c22b5d108bdbc17e80b": {
          "model_module": "@jupyter-widgets/controls",
          "model_name": "DescriptionStyleModel",
          "model_module_version": "1.5.0",
          "state": {
            "_model_module": "@jupyter-widgets/controls",
            "_model_module_version": "1.5.0",
            "_model_name": "DescriptionStyleModel",
            "_view_count": null,
            "_view_module": "@jupyter-widgets/base",
            "_view_module_version": "1.2.0",
            "_view_name": "StyleView",
            "description_width": ""
          }
        }
      }
    }
  },
  "nbformat": 4,
  "nbformat_minor": 0
}